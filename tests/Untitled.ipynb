{
 "cells": [
  {
   "cell_type": "code",
   "execution_count": 26,
   "id": "saved-insider",
   "metadata": {},
   "outputs": [],
   "source": [
    "def single_channel_graph(data, ch_names, channels, percentage_threshold, bands=None):   \n",
    "    matrix = []\n",
    "    num_graphs = int(len(data)/channels)\n",
    "    print(\"Number of graphs created:\", num_graphs)\n",
    "    nodes = process_channel_names(ch_names)\n",
    "    percentile = 100 - (percentage_threshold*100)\n",
    "    \n",
    "    G = {}\n",
    "    for i in range(num_graphs):\n",
    "        G[i] = nx.Graph()\n",
    "        G[i].add_nodes_from(nodes)\n",
    "        elegible_nodes = []\n",
    "        \n",
    "        #Calculate the percentile of top channels channels for given percentage\n",
    "        threshold = np.percentile(data[(i*channels):(((i+1)*channels)-1)], percentile)\n",
    "        print(threshold)\n",
    "\n",
    "\n",
    "        for j in range(channels):\n",
    "            G[i].add_edge(nodes[j], nodes[j], weight = data[(channels * i) + j], thickness=1)\n",
    "            if(data[(channels * i) + j]) >= threshold:\n",
    "                elegible_nodes.append(nodes[j])\n",
    "                \n",
    "        edges = combinations(elegible_nodes,2)        \n",
    "        G[i].add_edges_from(edges, weight = 1, thickness=1)\n",
    "        matrix.append(nx.adjacency_matrix(G[i]).todense())\n",
    "        \n",
    "    return G, np.array(matrix)"
   ]
  },
  {
   "cell_type": "code",
   "execution_count": 27,
   "id": "seven-annex",
   "metadata": {},
   "outputs": [],
   "source": [
    "import numpy as np\n",
    "import pandas as pd\n",
    "import scot\n",
    "from scipy import signal\n",
    "from itertools import combinations\n",
    "import networkx as nx\n",
    "import plotly.graph_objects as go\n",
    "import logging\n",
    "import warnings"
   ]
  },
  {
   "cell_type": "code",
   "execution_count": 28,
   "id": "demanding-least",
   "metadata": {},
   "outputs": [],
   "source": [
    "def process_channel_names(channel_names):\n",
    "    \"\"\"Process to obtain the electrode name from the channel name.\n",
    "    Parameters\n",
    "    ----------\n",
    "    channel_names : list\n",
    "        Channel names in the EEG.\n",
    "    \n",
    "    Returns\n",
    "    -------\n",
    "    channel_names : list\n",
    "        Proccessed channel names, containing only the name of the electrode.\n",
    "    \"\"\"\n",
    "    \n",
    "    channel_names = [(elem.split())[-1] for elem in channel_names]\n",
    "    channel_names = [(elem.replace(\"-\", \" \").split())[0] for elem in channel_names]\n",
    "        \n",
    "    return channel_names"
   ]
  },
  {
   "cell_type": "code",
   "execution_count": 29,
   "id": "floppy-behalf",
   "metadata": {},
   "outputs": [
    {
     "name": "stdout",
     "output_type": "stream",
     "text": [
      "Number of graphs created: 1\n",
      "0.8328431572715058\n",
      "16\n",
      "17\n"
     ]
    }
   ],
   "source": [
    "channels = 16\n",
    "data = [0.81564148562685876, 0.30660675598762527, 0.71377519539990526, 0.3190937053018591, 0.38838726704914084, 0.7493007647717073, 0.35925485161888404, 0.9736121835275438, 0.84431093836793725, 0.3802669640607751, 0.3813287481487231, 0.4254342766449424, 0.72896987340610406, 0.3902971874488028, 0.35633248790669203, 0.34861031389046215]\n",
    "        \n",
    "ch_names = ['Fp1', 'Fp2', 'AF7', 'AF3', 'AF4', 'AF8', 'F7', 'F5', 'F3', 'F1', 'Fz', 'F2', 'F4', 'F6', 'F8', 'FT9'] \n",
    "        \n",
    "result, _ = single_channel_graph(data, ch_names, channels, 0.1)\n",
    "\n",
    "print(len(result[0].nodes()))\n",
    "print(len(result[0].edges()))"
   ]
  },
  {
   "cell_type": "code",
   "execution_count": null,
   "id": "lovely-nashville",
   "metadata": {},
   "outputs": [],
   "source": []
  },
  {
   "cell_type": "code",
   "execution_count": null,
   "id": "nonprofit-parliament",
   "metadata": {},
   "outputs": [],
   "source": []
  }
 ],
 "metadata": {
  "kernelspec": {
   "display_name": "Python 3",
   "language": "python",
   "name": "python3"
  },
  "language_info": {
   "codemirror_mode": {
    "name": "ipython",
    "version": 3
   },
   "file_extension": ".py",
   "mimetype": "text/x-python",
   "name": "python",
   "nbconvert_exporter": "python",
   "pygments_lexer": "ipython3",
   "version": "3.8.8"
  }
 },
 "nbformat": 4,
 "nbformat_minor": 5
}
