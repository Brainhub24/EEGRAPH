{
  "nbformat": 4,
  "nbformat_minor": 0,
  "metadata": {
    "colab": {
      "name": "EEGraphExample.ipynb",
      "provenance": [],
      "collapsed_sections": []
    },
    "kernelspec": {
      "name": "python3",
      "display_name": "Python 3"
    }
  },
  "cells": [
    {
      "cell_type": "markdown",
      "metadata": {
        "id": "V6I3aD1skDiW"
      },
      "source": [
        "#Example Usage of EEGraph\n",
        "\n",
        "> This example explains how to use EEGraph library. \n"
      ]
    },
    {
      "cell_type": "code",
      "metadata": {
        "colab": {
          "base_uri": "https://localhost:8080/"
        },
        "id": "pLWaMQOHnFob",
        "outputId": "d560e344-ec27-4d42-b45f-6a298e7f0bc1"
      },
      "source": [
        "# install EEGraph if running on Google Colab\n",
        "!pip install EEGRAPH"
      ],
      "execution_count": null,
      "outputs": [
        {
          "output_type": "stream",
          "text": [
            "Requirement already satisfied: EEGRAPH in /usr/local/lib/python3.7/dist-packages (0.1.6)\n",
            "Requirement already satisfied: plotly>=4.14.3 in /usr/local/lib/python3.7/dist-packages (from EEGRAPH) (4.14.3)\n",
            "Requirement already satisfied: mne==0.22.0 in /usr/local/lib/python3.7/dist-packages (from EEGRAPH) (0.22.0)\n",
            "Requirement already satisfied: scot==0.2.1 in /usr/local/lib/python3.7/dist-packages (from EEGRAPH) (0.2.1)\n",
            "Requirement already satisfied: numpy>=1.15.4 in /usr/local/lib/python3.7/dist-packages (from EEGRAPH) (1.19.5)\n",
            "Requirement already satisfied: pandas>=1.2.3 in /usr/local/lib/python3.7/dist-packages (from EEGRAPH) (1.2.3)\n",
            "Requirement already satisfied: scipy>=1.1.0 in /usr/local/lib/python3.7/dist-packages (from EEGRAPH) (1.4.1)\n",
            "Requirement already satisfied: networkx>=2.5 in /usr/local/lib/python3.7/dist-packages (from EEGRAPH) (2.5)\n",
            "Requirement already satisfied: six in /usr/local/lib/python3.7/dist-packages (from plotly>=4.14.3->EEGRAPH) (1.15.0)\n",
            "Requirement already satisfied: retrying>=1.3.3 in /usr/local/lib/python3.7/dist-packages (from plotly>=4.14.3->EEGRAPH) (1.3.3)\n",
            "Requirement already satisfied: pytz>=2017.3 in /usr/local/lib/python3.7/dist-packages (from pandas>=1.2.3->EEGRAPH) (2018.9)\n",
            "Requirement already satisfied: python-dateutil>=2.7.3 in /usr/local/lib/python3.7/dist-packages (from pandas>=1.2.3->EEGRAPH) (2.8.1)\n",
            "Requirement already satisfied: decorator>=4.3.0 in /usr/local/lib/python3.7/dist-packages (from networkx>=2.5->EEGRAPH) (4.4.2)\n"
          ],
          "name": "stdout"
        }
      ]
    },
    {
      "cell_type": "markdown",
      "metadata": {
        "id": "Lq1xeeWIml0I"
      },
      "source": [
        "There is an additional depedency that can´t be installed with pip. It is installed when EEGraph is imported, make sure to type 'y' in the message asking for permissions to install it. "
      ]
    },
    {
      "cell_type": "code",
      "metadata": {
        "id": "BdNorRVunP8J"
      },
      "source": [
        "# import the libary\n",
        "import eegraph"
      ],
      "execution_count": null,
      "outputs": []
    },
    {
      "cell_type": "markdown",
      "metadata": {
        "id": "Ubmd6lj_mr2U"
      },
      "source": [
        "## Load Data into EEGraph\n",
        "\n",
        "To start, we load the data. We are using an EEG file in .gdf extension. Supported EEG file formats can be found in the [loading documentation](https://github.com/ufvceiec/EEGRAPH/wiki/Load-data-from-EEG).\n",
        "Three parameters can be specified:\n",
        "* **Path**: The path to the EEG file.\n",
        "* **Exclude**: Channels to be excluded from EEG data.\n",
        "* **Electrode_montage_path**: The path to an electrode montage set. "
      ]
    },
    {
      "cell_type": "code",
      "metadata": {
        "colab": {
          "base_uri": "https://localhost:8080/"
        },
        "id": "fxTQzHZbnR8J",
        "outputId": "582ee375-df81-4e31-b335-d9cb3a54994a"
      },
      "source": [
        "G = eegraph.Graph()\n",
        "G.load_data(path = \"NM37_Pre_FTI.gdf\")"
      ],
      "execution_count": null,
      "outputs": [
        {
          "output_type": "stream",
          "text": [
            "Extracting EDF parameters from /content/NM37_Pre_FTI.gdf...\n",
            "GDF file detected\n",
            "Setting channel info structure...\n",
            "Creating raw.info structure...\n",
            "\n",
            "\u001b[1mEEG Information.\n",
            "\u001b[0mNumber of Channels: 64\n",
            "Sample rate: 512.0 Hz.\n",
            "Duration: 31.936 seconds.\n",
            "Channel Names: ['Channel 1', 'Channel 2', 'Channel 3', 'Channel 4', 'Channel 5', 'Channel 6', 'Channel 7', 'Channel 8', 'Channel 9', 'Channel 10', 'Channel 11', 'Channel 12', 'Channel 13', 'Channel 14', 'Channel 15', 'Channel 16', 'Channel 17', 'Channel 18', 'Channel 19', 'Channel 20', 'Channel 21', 'Channel 22', 'Channel 23', 'Channel 24', 'Channel 25', 'Channel 26', 'Channel 27', 'Channel 28', 'Channel 29', 'Channel 30', 'Channel 31', 'Channel 32', 'Channel 33', 'Channel 34', 'Channel 35', 'Channel 36', 'Channel 37', 'Channel 38', 'Channel 39', 'Channel 40', 'Channel 41', 'Channel 42', 'Channel 43', 'Channel 44', 'Channel 45', 'Channel 46', 'Channel 47', 'Channel 48', 'Channel 49', 'Channel 50', 'Channel 51', 'Channel 52', 'Channel 53', 'Channel 54', 'Channel 55', 'Channel 56', 'Channel 57', 'Channel 58', 'Channel 59', 'Channel 60', 'Channel 61', 'Channel 62', 'Channel 63', 'Channel 64']\n"
          ],
          "name": "stdout"
        },
        {
          "output_type": "stream",
          "text": [
            "/usr/local/lib/python3.7/dist-packages/eegraph/importData.py:19: RuntimeWarning:\n",
            "\n",
            "Omitted 1 annotation(s) that were outside data range.\n",
            "\n"
          ],
          "name": "stderr"
        }
      ]
    },
    {
      "cell_type": "markdown",
      "metadata": {
        "id": "kbxzODKoyeDI"
      },
      "source": [
        "This EEG file doesnt have channels that need to be excluded. Channels that need to be excluded are the ones that don´t corresponded to an electrode, `e.g.('EEG TAntI1-TAntI', 'EEG TAntD1-TAntD', 'EEG EKG1-EKG2')`. Channel labels in this EEG file are not in standard electrode positions, this is becuase it comes with an associated electrode montage file."
      ]
    },
    {
      "cell_type": "code",
      "metadata": {
        "colab": {
          "base_uri": "https://localhost:8080/"
        },
        "id": "tO5OsJR7yemc",
        "outputId": "186971de-62fe-48c8-87a0-0b53213ec159"
      },
      "source": [
        "G.load_data(path = \"NM37_Pre_FTI.gdf\", electrode_montage_path = \"electrodemontage.set.ced\")"
      ],
      "execution_count": null,
      "outputs": [
        {
          "output_type": "stream",
          "text": [
            "Extracting EDF parameters from /content/NM37_Pre_FTI.gdf...\n",
            "GDF file detected\n",
            "Setting channel info structure...\n",
            "Creating raw.info structure...\n",
            "\n",
            "\u001b[1mEEG Information.\n",
            "\u001b[0mNumber of Channels: 64\n",
            "Sample rate: 512.0 Hz.\n",
            "Duration: 31.936 seconds.\n",
            "Channel Names: ['Fp1', 'Fp2', 'AF7', 'AF3', 'AF4', 'AF8', 'F7', 'F5', 'F3', 'F1', 'Fz', 'F2', 'F4', 'F6', 'F8', 'FT9', 'FT7', 'FC5', 'FC3', 'FC1', 'FCz', 'FC2', 'FC4', 'FC6', 'FT8', 'FT10', 'T7', 'C5', 'C3', 'C1', 'Cz', 'C2', 'C4', 'C6', 'T8', 'TP9', 'TP7', 'CP5', 'CP3', 'CP1', 'CPz', 'CP2', 'CP4', 'CP6', 'TP8', 'TP10', 'P7', 'P5', 'P3', 'P1', 'Pz', 'P2', 'P4', 'P6', 'P8', 'PO7', 'PO3', 'POz', 'PO4', 'PO8', 'PO9', 'O1', 'Oz', 'O2']\n"
          ],
          "name": "stdout"
        },
        {
          "output_type": "stream",
          "text": [
            "/usr/local/lib/python3.7/dist-packages/eegraph/importData.py:19: RuntimeWarning:\n",
            "\n",
            "Omitted 1 annotation(s) that were outside data range.\n",
            "\n"
          ],
          "name": "stderr"
        }
      ]
    },
    {
      "cell_type": "markdown",
      "metadata": {
        "id": "HArM3Hg3ygMd"
      },
      "source": [
        "Channel labels are now in standard electrode names."
      ]
    },
    {
      "cell_type": "markdown",
      "metadata": {
        "id": "KWAm3DYXv6Q4"
      },
      "source": [
        "## Modelate Data\n",
        "\n",
        "The method Modelate will generate [NetworkX](https://networkx.org/documentation/stable/) graphs from the EEG file. All information can be found in [Modelate documentation](https://github.com/ufvceiec/EEGRAPH/wiki/Modelate-Data).\n",
        "* **Window size**: Desired window size, it will determine the amount of graphs generated.\n",
        "* **Connectivity**: Connectivity measure to compute. One of the listed in modelate documentation.\n",
        "* **Bands**: It is only required if connectivity measure needs it. `e.g. ['delta','theta','alpha','beta','gamma']`.\n",
        "* **Threshold**: User specific threshold. Default values can be found in [documentation](https://github.com/ufvceiec/EEGRAPH/wiki/Modelate-Data). "
      ]
    },
    {
      "cell_type": "markdown",
      "metadata": {
        "id": "GmMMeTizK4Dk"
      },
      "source": [
        "### Without Frequency bands"
      ]
    },
    {
      "cell_type": "markdown",
      "metadata": {
        "id": "LC7aNJskHDUi"
      },
      "source": [
        "In this first example we are using a window size of `2 seconds`, and connectivity measure `pearson_correlation`."
      ]
    },
    {
      "cell_type": "code",
      "metadata": {
        "id": "h4_DmrlOnc_c",
        "colab": {
          "base_uri": "https://localhost:8080/"
        },
        "outputId": "f3ca9caf-8d4e-4245-b3d3-17ea7620d186"
      },
      "source": [
        "window = 2\n",
        "connectivity_measure = 'pearson_correlation'\n",
        "\n",
        "graphs, connectivity_matrix = G.modelate(window_size = window, connectivity = connectivity_measure)"
      ],
      "execution_count": null,
      "outputs": [
        {
          "output_type": "stream",
          "text": [
            "\u001b[1mModel Data.\u001b[0m\n",
            "Pearson_correlation_Estimator()\n",
            "Intervals:  [(0, 1024.0), (1024.0, 2048.0), (2048.0, 3072.0), (3072.0, 4096.0), (4096.0, 5120.0), (5120.0, 6144.0), (6144.0, 7168.0), (7168.0, 8192.0), (8192.0, 9216.0), (9216.0, 10240.0), (10240.0, 11264.0), (11264.0, 12288.0), (12288.0, 13312.0), (13312.0, 14336.0), (14336.0, 15360.0), (15360.0, 16351.0)]\n",
            "\n",
            "Threshold: 0.7\n",
            "Number of graphs created: 16\n"
          ],
          "name": "stdout"
        }
      ]
    },
    {
      "cell_type": "markdown",
      "metadata": {
        "id": "g28EvwbOHkLK"
      },
      "source": [
        "Since the EEG file is 32 seconds long, it will generate 16 graphs with the specificied window size of 2 seconds. The two outputs are a list of NetworkX graphs and the corresponding adjacency matrix for the generated graphs. "
      ]
    },
    {
      "cell_type": "markdown",
      "metadata": {
        "id": "VF69C8lJK_K6"
      },
      "source": [
        "### With Frequency bands"
      ]
    },
    {
      "cell_type": "markdown",
      "metadata": {
        "id": "PZolNm-6KKY7"
      },
      "source": [
        "In this first example we are using a window size of `4 seconds`, connectivity measure `squared_coherence`, frequency bands `['delta','theta','alpha','beta','gamma']`, and a specific threshold of `0.9`."
      ]
    },
    {
      "cell_type": "code",
      "metadata": {
        "colab": {
          "base_uri": "https://localhost:8080/"
        },
        "id": "UrQQG7eKEQ-j",
        "outputId": "03356868-5497-4ccc-fce7-c1fcae889f62"
      },
      "source": [
        "window_size = 4\n",
        "connectivity_measure = 'squared_coherence'\n",
        "freq_bands = ['delta','theta','alpha','beta','gamma']\n",
        "threshold = 0.75\n",
        "\n",
        "graphs, connectivity_matrix = G.modelate(window_size = window, connectivity = connectivity_measure, bands = freq_bands, threshold=threshold)"
      ],
      "execution_count": null,
      "outputs": [
        {
          "output_type": "stream",
          "text": [
            "\u001b[1mModel Data.\u001b[0m\n",
            "Squared_coherence_Estimator()\n",
            "Frequency Bands: ['delta', 'theta', 'alpha', 'beta', 'gamma'] [True, True, True, True, True]\n",
            "Intervals:  [(0, 1024.0), (1024.0, 2048.0), (2048.0, 3072.0), (3072.0, 4096.0), (4096.0, 5120.0), (5120.0, 6144.0), (6144.0, 7168.0), (7168.0, 8192.0), (8192.0, 9216.0), (9216.0, 10240.0), (10240.0, 11264.0), (11264.0, 12288.0), (12288.0, 13312.0), (13312.0, 14336.0), (14336.0, 15360.0), (15360.0, 16351.0)]\n",
            "\n",
            "Threshold: 0.99\n",
            "Number of graphs created: 80\n"
          ],
          "name": "stdout"
        }
      ]
    },
    {
      "cell_type": "markdown",
      "metadata": {
        "id": "GicwggfpVLTZ"
      },
      "source": [
        "With this configuration of window size and frequency bands we generate 80 graphs."
      ]
    },
    {
      "cell_type": "markdown",
      "metadata": {
        "id": "AHtPeMvyD_Wp"
      },
      "source": [
        "## Visualize  Graph"
      ]
    },
    {
      "cell_type": "markdown",
      "metadata": {
        "id": "7O-1OcOkVn_c"
      },
      "source": [
        "With this method we can visualize specific graphs. We need to specify the graph we want to visualize, and the name for the output html generated file."
      ]
    },
    {
      "cell_type": "code",
      "metadata": {
        "id": "7Rfo-6Yjne0K",
        "colab": {
          "base_uri": "https://localhost:8080/"
        },
        "outputId": "e7fafba2-98ac-4acd-b9a4-3e4f3edbdf80"
      },
      "source": [
        "name = 'graph_1'\n",
        "G.visualize(graphs[79], name)"
      ],
      "execution_count": null,
      "outputs": [
        {
          "output_type": "stream",
          "text": [
            "\n"
          ],
          "name": "stdout"
        }
      ]
    },
    {
      "cell_type": "markdown",
      "metadata": {
        "id": "qjE2Qyb5Wl5u"
      },
      "source": [
        "The graph plot can be visualized opening the html generated file. "
      ]
    }
  ]
}