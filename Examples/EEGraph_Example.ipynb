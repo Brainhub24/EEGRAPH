{
  "cells": [
    {
      "cell_type": "markdown",
      "metadata": {
        "id": "65xOevZFDSS7"
      },
      "source": [
        "<table><tr><td>Run the latest release of this notebook:</td><td><a href=\"https://colab.research.google.com/github/ufvceiec/EEGRAPH/blob/develop-refactor/Examples/EEGraph_Example.ipynb\" alt=\"Open In Colab\" target=\"_parent\"><img src=\"https://colab.research.google.com/assets/colab-badge.svg\"/></a></td></tr></table>\n",
        "\n",
        "\n",
        "\n"
      ]
    },
    {
      "cell_type": "markdown",
      "metadata": {
        "id": "V6I3aD1skDiW"
      },
      "source": [
        "#Example Usage of EEGraph\n",
        "\n",
        "> This example explains how to use EEGraph library. \n"
      ]
    },
    {
      "cell_type": "code",
      "execution_count": null,
      "metadata": {
        "id": "pLWaMQOHnFob"
      },
      "outputs": [],
      "source": [
        "# install EEGraph if running on Google Colab\n",
        "!pip install EEGRAPH"
      ]
    },
    {
      "cell_type": "code",
      "execution_count": null,
      "metadata": {
        "id": "BdNorRVunP8J"
      },
      "outputs": [],
      "source": [
        "# import the libary\n",
        "import eegraph"
      ]
    },
    {
      "cell_type": "markdown",
      "metadata": {
        "id": "Ubmd6lj_mr2U"
      },
      "source": [
        "## Load Data into EEGraph\n",
        "\n",
        "To start, we load the data. We are using an EEG file in .gdf extension. Supported EEG file formats can be found in the [loading documentation](https://github.com/ufvceiec/EEGRAPH/wiki/Load-data-from-EEG).\n",
        "Three parameters can be specified:\n",
        "* **Path**: The path to the EEG file.\n",
        "* **Exclude**: Channels to be excluded from EEG data.\n",
        "* **Electrode_montage_path**: The path to an electrode montage set. "
      ]
    },
    {
      "cell_type": "code",
      "execution_count": null,
      "metadata": {
        "id": "fxTQzHZbnR8J"
      },
      "outputs": [],
      "source": [
        "G = eegraph.Graph()\n",
        "G.load_data(path = \"control.edf\")"
      ]
    },
    {
      "cell_type": "markdown",
      "metadata": {
        "id": "KWAm3DYXv6Q4"
      },
      "source": [
        "## Modelate Data\n",
        "\n",
        "The method Modelate will generate [NetworkX](https://networkx.org/documentation/stable/) graphs from the EEG file. All information can be found in [Modelate documentation](https://github.com/ufvceiec/EEGRAPH/wiki/Modelate-Data).\n",
        "* **Window size**: Desired window size, it will determine the amount of graphs generated.\n",
        "* **Connectivity**: Connectivity measure to compute. One of the listed in modelate documentation.\n",
        "* **Bands**: It is only required if connectivity measure needs it. `e.g. ['delta','theta','alpha','beta','gamma']`.\n",
        "* **Threshold**: User specific threshold. Default values can be found in [documentation](https://github.com/ufvceiec/EEGRAPH/wiki/Modelate-Data). "
      ]
    },
    {
      "cell_type": "markdown",
      "metadata": {
        "id": "GmMMeTizK4Dk"
      },
      "source": [
        "### Without Frequency bands"
      ]
    },
    {
      "cell_type": "markdown",
      "metadata": {
        "id": "LC7aNJskHDUi"
      },
      "source": [
        "In this first example we are using a window size of `2 seconds`, and connectivity measure `pearson_correlation`."
      ]
    },
    {
      "cell_type": "code",
      "execution_count": null,
      "metadata": {
        "id": "h4_DmrlOnc_c"
      },
      "outputs": [],
      "source": [
        "window = 2\n",
        "connectivity_measure = 'pearson_correlation'\n",
        "\n",
        "graphs, connectivity_matrix = G.modelate(window_size = window, connectivity = connectivity_measure)"
      ]
    },
    {
      "cell_type": "markdown",
      "metadata": {
        "id": "g28EvwbOHkLK"
      },
      "source": [
        "Since the EEG file is 32 seconds long, it will generate 16 graphs with the specificied window size of 2 seconds. The two outputs are a list of NetworkX graphs and the corresponding adjacency matrix for the generated graphs. "
      ]
    },
    {
      "cell_type": "markdown",
      "metadata": {
        "id": "VF69C8lJK_K6"
      },
      "source": [
        "### With Frequency bands"
      ]
    },
    {
      "cell_type": "markdown",
      "metadata": {
        "id": "PZolNm-6KKY7"
      },
      "source": [
        "In this first example we are using a window size of `4 seconds`, connectivity measure `squared_coherence`, frequency bands `['delta','theta','alpha','beta','gamma']`, and a specific threshold of `0.75`."
      ]
    },
    {
      "cell_type": "code",
      "execution_count": null,
      "metadata": {
        "id": "UrQQG7eKEQ-j"
      },
      "outputs": [],
      "source": [
        "window_size = 4\n",
        "connectivity_measure = 'squared_coherence'\n",
        "freq_bands = ['delta','theta','alpha','beta','gamma']\n",
        "threshold = 0.75\n",
        "\n",
        "graphs, connectivity_matrix = G.modelate(window_size = window, connectivity = connectivity_measure, bands = freq_bands, threshold=threshold)"
      ]
    },
    {
      "cell_type": "markdown",
      "metadata": {
        "id": "GicwggfpVLTZ"
      },
      "source": [
        "With this configuration of window size and frequency bands we generate 80 graphs."
      ]
    },
    {
      "cell_type": "markdown",
      "metadata": {
        "id": "AHtPeMvyD_Wp"
      },
      "source": [
        "## Visualize  Graph"
      ]
    },
    {
      "cell_type": "markdown",
      "metadata": {
        "id": "7O-1OcOkVn_c"
      },
      "source": [
        "With this method we can visualize specific graphs. We need to specify the graph we want to visualize, and the name for the output html generated file."
      ]
    },
    {
      "cell_type": "code",
      "execution_count": null,
      "metadata": {
        "id": "7Rfo-6Yjne0K"
      },
      "outputs": [],
      "source": [
        "name = 'graph_1'\n",
        "G.visualize(graphs[10], name)"
      ]
    },
    {
      "cell_type": "markdown",
      "metadata": {
        "id": "qjE2Qyb5Wl5u"
      },
      "source": [
        "The graph plot can be visualized opening the html generated file. "
      ]
    }
  ],
  "metadata": {
    "colab": {
      "collapsed_sections": [],
      "name": "EEGraph_Example.ipynb",
      "provenance": [],
      "toc_visible": true
    },
    "interpreter": {
      "hash": "279966d80347c11d8b647426a09bfa70d6a274d505ffc7225bdc68201bc2cc6a"
    },
    "kernelspec": {
      "display_name": "Python 3.8.13 ('EEGRAPH')",
      "language": "python",
      "name": "python3"
    },
    "language_info": {
      "codemirror_mode": {
        "name": "ipython",
        "version": 3
      },
      "file_extension": ".py",
      "mimetype": "text/x-python",
      "name": "python",
      "nbconvert_exporter": "python",
      "pygments_lexer": "ipython3",
      "version": "3.8.13"
    }
  },
  "nbformat": 4,
  "nbformat_minor": 0
}
