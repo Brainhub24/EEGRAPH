{
  "nbformat": 4,
  "nbformat_minor": 0,
  "metadata": {
    "colab": {
      "name": "EEGraph_Example.ipynb",
      "provenance": [],
      "collapsed_sections": [],
      "toc_visible": true
    },
    "kernelspec": {
      "display_name": "Python 3",
      "language": "python",
      "name": "python3"
    },
    "language_info": {
      "codemirror_mode": {
        "name": "ipython",
        "version": 3
      },
      "file_extension": ".py",
      "mimetype": "text/x-python",
      "name": "python",
      "nbconvert_exporter": "python",
      "pygments_lexer": "ipython3",
      "version": "3.8.8"
    }
  },
  "cells": [
    {
      "cell_type": "markdown",
      "metadata": {
        "id": "65xOevZFDSS7"
      },
      "source": [
        "<table><tr><td>Run the latest release of this notebook:</td><td><a href=\"https://colab.research.google.com/github/ufvceiec/EEGRAPH/blob/develop-refactor/Examples/EEGraph_Example.ipynb\" alt=\"Open In Colab\" target=\"_parent\"><img src=\"https://colab.research.google.com/assets/colab-badge.svg\"/></a></td></tr></table>\n",
        "\n",
        "\n",
        "\n"
      ]
    },
    {
      "cell_type": "markdown",
      "metadata": {
        "id": "V6I3aD1skDiW"
      },
      "source": [
        "#Example Usage of EEGraph\n",
        "\n",
        "> This example explains how to use EEGraph library. \n"
      ]
    },
    {
      "cell_type": "code",
      "metadata": {
        "id": "pLWaMQOHnFob"
      },
      "source": [
        "# install EEGraph if running on Google Colab\n",
        "!pip install EEGRAPH"
      ],
      "execution_count": null,
      "outputs": []
    },
    {
      "cell_type": "code",
      "metadata": {
        "id": "BdNorRVunP8J"
      },
      "source": [
        "# import the libary\n",
        "import eegraph"
      ],
      "execution_count": null,
      "outputs": []
    },
    {
      "cell_type": "markdown",
      "metadata": {
        "id": "Ubmd6lj_mr2U"
      },
      "source": [
        "## Load Data into EEGraph\n",
        "\n",
        "To start, we load the data. We are using an EEG file in .gdf extension. Supported EEG file formats can be found in the [loading documentation](https://github.com/ufvceiec/EEGRAPH/wiki/Load-data-from-EEG).\n",
        "Three parameters can be specified:\n",
        "* **Path**: The path to the EEG file.\n",
        "* **Exclude**: Channels to be excluded from EEG data.\n",
        "* **Electrode_montage_path**: The path to an electrode montage set. "
      ]
    },
    {
      "cell_type": "code",
      "metadata": {
        "id": "fxTQzHZbnR8J"
      },
      "source": [
        "G = eegraph.Graph()\n",
        "G.load_data(path = \"eeg_sample_2.gdf\")"
      ],
      "execution_count": null,
      "outputs": []
    },
    {
      "cell_type": "markdown",
      "metadata": {
        "id": "kbxzODKoyeDI"
      },
      "source": [
        "This EEG file doesnt have channels that need to be excluded. Channels that need to be excluded are the ones that don´t corresponded to an electrode, `e.g.('EEG TAntI1-TAntI', 'EEG TAntD1-TAntD', 'EEG EKG1-EKG2')`. Channel labels in this EEG file are not in standard electrode positions, this is becuase it comes with an associated electrode montage file."
      ]
    },
    {
      "cell_type": "code",
      "metadata": {
        "id": "tO5OsJR7yemc"
      },
      "source": [
        "G.load_data(path = \"eeg_sample_2.gdf\", electrode_montage_path = \"electrodemontage.set.ced\")"
      ],
      "execution_count": null,
      "outputs": []
    },
    {
      "cell_type": "markdown",
      "metadata": {
        "id": "HArM3Hg3ygMd"
      },
      "source": [
        "Channel labels are now in standard electrode names."
      ]
    },
    {
      "cell_type": "markdown",
      "metadata": {
        "id": "KWAm3DYXv6Q4"
      },
      "source": [
        "## Modelate Data\n",
        "\n",
        "The method Modelate will generate [NetworkX](https://networkx.org/documentation/stable/) graphs from the EEG file. All information can be found in [Modelate documentation](https://github.com/ufvceiec/EEGRAPH/wiki/Modelate-Data).\n",
        "* **Window size**: Desired window size, it will determine the amount of graphs generated.\n",
        "* **Connectivity**: Connectivity measure to compute. One of the listed in modelate documentation.\n",
        "* **Bands**: It is only required if connectivity measure needs it. `e.g. ['delta','theta','alpha','beta','gamma']`.\n",
        "* **Threshold**: User specific threshold. Default values can be found in [documentation](https://github.com/ufvceiec/EEGRAPH/wiki/Modelate-Data). "
      ]
    },
    {
      "cell_type": "markdown",
      "metadata": {
        "id": "GmMMeTizK4Dk"
      },
      "source": [
        "### Without Frequency bands"
      ]
    },
    {
      "cell_type": "markdown",
      "metadata": {
        "id": "LC7aNJskHDUi"
      },
      "source": [
        "In this first example we are using a window size of `2 seconds`, and connectivity measure `pearson_correlation`."
      ]
    },
    {
      "cell_type": "code",
      "metadata": {
        "id": "h4_DmrlOnc_c"
      },
      "source": [
        "window = 2\n",
        "connectivity_measure = 'pearson_correlation'\n",
        "\n",
        "graphs, connectivity_matrix = G.modelate(window_size = window, connectivity = connectivity_measure)"
      ],
      "execution_count": null,
      "outputs": []
    },
    {
      "cell_type": "markdown",
      "metadata": {
        "id": "g28EvwbOHkLK"
      },
      "source": [
        "Since the EEG file is 32 seconds long, it will generate 16 graphs with the specificied window size of 2 seconds. The two outputs are a list of NetworkX graphs and the corresponding adjacency matrix for the generated graphs. "
      ]
    },
    {
      "cell_type": "markdown",
      "metadata": {
        "id": "VF69C8lJK_K6"
      },
      "source": [
        "### With Frequency bands"
      ]
    },
    {
      "cell_type": "markdown",
      "metadata": {
        "id": "PZolNm-6KKY7"
      },
      "source": [
        "In this first example we are using a window size of `4 seconds`, connectivity measure `squared_coherence`, frequency bands `['delta','theta','alpha','beta','gamma']`, and a specific threshold of `0.75`."
      ]
    },
    {
      "cell_type": "code",
      "metadata": {
        "id": "UrQQG7eKEQ-j"
      },
      "source": [
        "window_size = 4\n",
        "connectivity_measure = 'squared_coherence'\n",
        "freq_bands = ['delta','theta','alpha','beta','gamma']\n",
        "threshold = 0.75\n",
        "\n",
        "graphs, connectivity_matrix = G.modelate(window_size = window, connectivity = connectivity_measure, bands = freq_bands, threshold=threshold)"
      ],
      "execution_count": null,
      "outputs": []
    },
    {
      "cell_type": "markdown",
      "metadata": {
        "id": "GicwggfpVLTZ"
      },
      "source": [
        "With this configuration of window size and frequency bands we generate 80 graphs."
      ]
    },
    {
      "cell_type": "markdown",
      "metadata": {
        "id": "AHtPeMvyD_Wp"
      },
      "source": [
        "## Visualize  Graph"
      ]
    },
    {
      "cell_type": "markdown",
      "metadata": {
        "id": "7O-1OcOkVn_c"
      },
      "source": [
        "With this method we can visualize specific graphs. We need to specify the graph we want to visualize, and the name for the output html generated file."
      ]
    },
    {
      "cell_type": "code",
      "metadata": {
        "id": "7Rfo-6Yjne0K"
      },
      "source": [
        "name = 'graph_1'\n",
        "G.visualize(graphs[10], name)"
      ],
      "execution_count": null,
      "outputs": []
    },
    {
      "cell_type": "markdown",
      "metadata": {
        "id": "qjE2Qyb5Wl5u"
      },
      "source": [
        "The graph plot can be visualized opening the html generated file. "
      ]
    }
  ]
}